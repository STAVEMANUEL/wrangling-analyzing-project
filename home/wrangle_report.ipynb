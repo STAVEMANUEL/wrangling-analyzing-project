{
 "cells": [
  {
   "cell_type": "markdown",
   "metadata": {},
   "source": [
    "## Reporting: wragle_report\n",
    "* Create a **300-600 word written report** called \"wrangle_report.pdf\" or \"wrangle_report.html\" that briefly describes your wrangling efforts. This is to be framed as an internal document."
   ]
  },
  {
   "cell_type": "markdown",
   "metadata": {},
   "source": [
    "\n",
    "\n",
    "WeRateDogs Twitter data was retrieved from Twitter's API using Tweepy, a Python library. Among the data will be the number of retweets and favorites. As part of this project, I combined those two pieces of data with additional information provided by Udacity's Data Analyst course.\n",
    "During the process of Data Wrangling of tweet data from the Twitter user @dog_rates , I have found several quality and structure issues. After analyzing, cleaning, and combining all the data, I have created a new DataFrame. I have stored it in twitter_archive_master.csv.\n"
   ]
  },
  {
   "cell_type": "markdown",
   "metadata": {},
   "source": [
    "- With the link provided by Udacity, I downloaded and imported the WeRateDogs Twitter archive .\n"
   ]
  },
  {
   "cell_type": "markdown",
   "metadata": {},
   "source": [
    "- Using Python's Requests library, I downloaded the tweet image predictions file hosted on Udacity's servers and saved it locally as image_predictions.tsv. Next, I imported this file into a Python Pandas dataframe."
   ]
  },
  {
   "cell_type": "markdown",
   "metadata": {},
   "source": [
    "Scrolling through the twitter_archive_enhanced.csv and image_predictions.tsv files in Excel, I looked for tidiness and quality problems.\n",
    "\n",
    "As part of my analysis i used info method to identify erroneous datatypes and other quality issues. \n",
    "In order to verify i used value counts method in test fields.\n",
    "\n",
    "\n",
    "### Assessing Data\n",
    " - the timestamp is object - it should be datetime.\n",
    "\n",
    " - not all tweets about dogs.\n",
    "\n",
    " - there is url inside text.\n",
    "\n",
    " - no need for retweets\n",
    "\n",
    " - there are 546 none values in column \"name\" and also 55 \"a\" names which is incorrect.\n",
    "\n",
    " - retweet and favorite count are float datatype.\n",
    "\n",
    " - the source column is with 3 values , aranged as html code.\n",
    "\n",
    " - the source are object datatype and not a category."
   ]
  },
  {
   "cell_type": "markdown",
   "metadata": {},
   "source": [
    "### Tidiness issues\n",
    "- there is urls inside the text cloumn.\n",
    "\n",
    "- we can arrange all doggo, floofer, pupper and puppo on one categoy column. "
   ]
  },
  {
   "cell_type": "markdown",
   "metadata": {},
   "source": [
    "- In order to identify incorrect data types and other quality issues, I used Panda's information method.My next step was to look for problems using the value_counts method. I also found a cleanliness issue during my inspection. These activities helped me identify my quality problems."
   ]
  },
  {
   "cell_type": "markdown",
   "metadata": {},
   "source": [
    "- The quality and tidiness issues were all related to this table, so I created a copy of only this table and named it copy_df. I performed the programmatic data cleaning process in three stages - Define, Code, and Test - for each quality/tidiness issue. During the cleaning process, I converted source and newly created stage columns to category datatypes."
   ]
  },
  {
   "cell_type": "markdown",
   "metadata": {},
   "source": [
    "- In the twitter_archive_master.csv file, I saved the copy_df DataFrame after cleaning."
   ]
  },
  {
   "cell_type": "code",
   "execution_count": null,
   "metadata": {},
   "outputs": [],
   "source": []
  }
 ],
 "metadata": {
  "kernelspec": {
   "display_name": "Python 3",
   "language": "python",
   "name": "python3"
  },
  "language_info": {
   "codemirror_mode": {
    "name": "ipython",
    "version": 3
   },
   "file_extension": ".py",
   "mimetype": "text/x-python",
   "name": "python",
   "nbconvert_exporter": "python",
   "pygments_lexer": "ipython3",
   "version": "3.6.3"
  }
 },
 "nbformat": 4,
 "nbformat_minor": 2
}
